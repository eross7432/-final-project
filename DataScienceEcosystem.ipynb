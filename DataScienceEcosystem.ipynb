{
 "cells": [
  {
   "cell_type": "markdown",
   "id": "51bef5a9",
   "metadata": {},
   "source": [
    "# Data Science Tools and Ecosystem\n",
    "![2-title.png](Path)"
   ]
  },
  {
   "cell_type": "markdown",
   "id": "fdc7c661",
   "metadata": {},
   "source": [
    "# In this notebook, Data Science Tools and Ecosystem are summarized\n",
    "![3-intro.png](Path)\n"
   ]
  },
  {
   "cell_type": "code",
   "execution_count": null,
   "id": "4f239cdd",
   "metadata": {},
   "outputs": [],
   "source": [
    "Some of the popular languages that Data Scientists use are:\n",
    "1. Python\n",
    "2. R\n",
    "3. Julia\n",
    "\n",
    "![5-dslibraries.png](Path)"
   ]
  },
  {
   "cell_type": "markdown",
   "id": "df287c48",
   "metadata": {},
   "source": [
    "| Data Science Tools |\n",
    "| ------------------ |\n",
    "| Jupyter Notebook   |\n",
    "| RStudio            |\n",
    "| VS Code            |\n",
    "\n",
    "\n",
    " ![6-dstools.png](Path)\n"
   ]
  },
  {
   "cell_type": "markdown",
   "id": "36216dab",
   "metadata": {},
   "source": [
    "### Below are a few examples of evaluating arithmetic expressions in Python.\n",
    "a = 10\n",
    "b = 7\n",
    "result = a - b\n",
    "print(result)\n",
    "\n",
    "\n",
    "![7-introarithmetic.png](Path)"
   ]
  },
  {
   "cell_type": "markdown",
   "id": "164e60ec",
   "metadata": {},
   "source": [
    "# This is a simple arithmetic expression to multiply then add integers.\n",
    "result = (3 * 4) + 5\n",
    "print(result)  # Output: 17\n",
    "\n",
    "![8-multiplyandaddintegers.png](Path)\n",
    "\n"
   ]
  },
  {
   "cell_type": "markdown",
   "id": "aaebefdf",
   "metadata": {},
   "source": [
    "# This will convert 200 minutes to hours by dividing by 60.\n",
    "minutes = 200\n",
    "hours = minutes / 60\n",
    "print(hours)\n",
    "\n",
    "\n",
    "![9-hourstominutes.png](Path)"
   ]
  },
  {
   "cell_type": "code",
   "execution_count": null,
   "id": "796fb7c8",
   "metadata": {},
   "outputs": [],
   "source": [
    "**Objectives:**\n",
    "\n",
    "- List popular languages for Data Science.\n",
    "- Introduce arithmetic expression examples in Python.\n",
    "- Convert minutes to hours using Python.\n",
    "- Understand basic code execution in Jupyter Notebook.\n",
    "- Explore key takeaways from the course.\n",
    "\n",
    "![10-objectives.png](Path)\n"
   ]
  },
  {
   "cell_type": "markdown",
   "id": "1b14f8b1",
   "metadata": {},
   "source": [
    "## Author\n",
    "Elijah\n",
    "![11-authordetails.png](Path)"
   ]
  },
  {
   "cell_type": "code",
   "execution_count": null,
   "id": "6ecc479e",
   "metadata": {},
   "outputs": [],
   "source": []
  }
 ],
 "metadata": {
  "kernelspec": {
   "display_name": "Python 3 (ipykernel)",
   "language": "python",
   "name": "python3"
  },
  "language_info": {
   "codemirror_mode": {
    "name": "ipython",
    "version": 3
   },
   "file_extension": ".py",
   "mimetype": "text/x-python",
   "name": "python",
   "nbconvert_exporter": "python",
   "pygments_lexer": "ipython3",
   "version": "3.9.13"
  }
 },
 "nbformat": 4,
 "nbformat_minor": 5
}
